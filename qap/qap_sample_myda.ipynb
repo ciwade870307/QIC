{
 "cells": [
  {
   "cell_type": "code",
   "execution_count": 66,
   "metadata": {},
   "outputs": [],
   "source": [
    "import time\n",
    "import numpy as np\n",
    "import matplotlib.pyplot as plt\n",
    "from numpy import linalg as la\n",
    "import pickle\n",
    "from glob import glob\n",
    "from tqdm import tqdm\n",
    "import sys\n",
    "sys.path.insert(0, '..')\n",
    "from DA4 import DA\n",
    "from qap2qubo import *\n",
    "from penalty_weight import *"
   ]
  },
  {
   "cell_type": "code",
   "execution_count": 67,
   "metadata": {},
   "outputs": [],
   "source": [
    "def myDA(Q, init_bin, maxStep=1000, betaStart=0.1, betaStop=50, E_offset_increase_rate=0, plot_p=True):\n",
    "    \n",
    "    N = Q.shape[0]\n",
    "    Q_norm_coef = la.norm(Q, 'fro')*N\n",
    "    # Q = Q/np.sqrt(Q_norm_coef)\n",
    "\n",
    "    x = init_bin\n",
    "    init_e = Q@init_bin\n",
    "    \n",
    "    betaList = np.linspace(betaStart, betaStop, maxStep)\n",
    "    tempStart = 1/betaStart\n",
    "    tempEnd = 1/betaStop\n",
    "    decay = (tempEnd / tempStart)**(1/(maxStep-1))\n",
    "    betaList = [1/(tempStart * decay**i) for i in range(maxStep)]\n",
    "\n",
    "    E_offset = 0\n",
    "    E_best = 999999999\n",
    "    pList = []\n",
    "\n",
    "    for idx_step, beta in enumerate(betaList):\n",
    "        # I: Trial phase\n",
    "        idx_ones = np.squeeze(x)\n",
    "        sum_partial = np.sum(Q[:,idx_ones],1).reshape(-1,1)\n",
    "        dE = np.multiply((2*(1-2*x)),sum_partial)+np.diag(Q).reshape(-1,1)\n",
    "        # p = np.exp(-(dE-E_offset)*beta)\n",
    "        # idx_rand = np.argmax(p)\n",
    "        # print(idx_rand)\n",
    "        p = np.minimum(np.exp(-(dE-E_offset)*beta), 1.) # Acceptance Probility \n",
    "        accepted = np.random.binomial(1, np.squeeze(p), N)\n",
    "        # II: Update phase\n",
    "        if( np.any(accepted) ):\n",
    "        # if( ~idx_rand ):\n",
    "            idx_rand = np.random.choice(accepted.nonzero()[0])\n",
    "            x[idx_rand] ^= True\n",
    "            E_offset = 0\n",
    "            pList.append(p[idx_rand])\n",
    "        else:\n",
    "            E_offset += E_offset_increase_rate\n",
    "            pList.append(0)\n",
    "\n",
    "        E_current = x.T@Q@x\n",
    "        if( E_current < E_best):\n",
    "            E_best = E_current\n",
    "            x_best = x \n",
    "\n",
    "    if plot_p:\n",
    "        plt.figure(figsize=(8,4))\n",
    "        plt.grid()\n",
    "        plt.plot(pList, label=\"Acceptance Prob.\", color='r', marker='.', linewidth=1.0, linestyle='')\n",
    "        # plt.plot(1/np.array(betaList), label=\"Acceptance Prob.\", color='r', marker='', linewidth=1.0, linestyle='-')\n",
    "        plt.legend(loc='upper right')\n",
    "        # plt.xticks(self.N*self.self.maxStep)\n",
    "        plt.xlabel('MC steps', fontsize=13)\n",
    "        plt.ylabel('Acceptance Prob.', fontsize=13)\n",
    "        plt.show()\n",
    "\n",
    "    return x_best"
   ]
  },
  {
   "cell_type": "code",
   "execution_count": 68,
   "metadata": {},
   "outputs": [],
   "source": [
    "def bqp_test(path=\"../data/qapdata\", file=\"had\", iters=1000, spin=False, betaStart=0.01, betaStop=0.1, E_offset_increase_rate=0):\n",
    "\n",
    "    output_file = open(\"Result/myda_{}hist{}betaStart{}betaStop{}E_offset_increase_rate{}.txt\".format(file, iters, betaStart, betaStop, E_offset_increase_rate), \"w\")\n",
    "\n",
    "    data_list = [tag for tag in glob(\"{}/{}*\".format(path, file))]\n",
    "    data_list = np.sort(data_list)\n",
    "    \n",
    "    run=1\n",
    "    for data in tqdm(data_list):\n",
    "        distribution = np.zeros(10)\n",
    "        t = 0\n",
    "        min_e = 9999999\n",
    "\n",
    "        # ==== Load Flow, distance Matrix ====\n",
    "        dataname = data.split(\"/\")[-1].split(\".\")[0]\n",
    "        F, D, n, E_opt = loadQAP(dataname)\n",
    "\n",
    "        # ==== QUBO formulation ====\n",
    "        C, C_offset, P, P_offset, N = qap2qubo(F, D, n)\n",
    "\n",
    "        # ==== Penalty Weight ====\n",
    "        w = penalty_weight(C, P, N, mode=\"moc\")\n",
    "\n",
    "        Q = C + w*P\n",
    "        init_bin = np.ones((N,1), dtype=np.bool)\n",
    "\n",
    "        E_C_list = []\n",
    "        for n in tqdm(range(run)):\n",
    "            #### annealing ####\n",
    "            # da = DA(Q, init_bin, maxStep=iters,\n",
    "                    #  betaStart=betaStart, betaStop=betaStop, kernel_dim=(32 * 2,), spin=spin, energy = init_e)\n",
    "            # da.run()\n",
    "            start_time = time.time()\n",
    "            x = myDA(Q, init_bin, maxStep=iters, betaStart=betaStart, betaStop=betaStop, E_offset_increase_rate=E_offset_increase_rate)\n",
    "            total_time = time.time() - start_time\n",
    "\n",
    "            E_P = x.T@P@x + P_offset\n",
    "            if( E_P==0 ):\n",
    "                E_C = x.T@C@x\n",
    "                E_C_list.append(E_C)\n",
    "\n",
    "                print(\"solution\", E_opt, E_C)\n",
    "                if E_C < min_e :\n",
    "                    min_e = E_C\n",
    "                if (E_opt - E_C) >= 0:\n",
    "                    l = 0\n",
    "                    distribution[0] += 1\n",
    "                    t += total_time\n",
    "                    print('find optimal solution', E_opt, E_C)\n",
    "                    break\n",
    "                else:\n",
    "                    l = int(np.ceil((abs((E_opt - E_C) / E_opt) * 100)))\n",
    "                if l > 9:\n",
    "                    l = 9\n",
    "                distribution[l] += 1\n",
    "                print(f\"Time: {total_time}\")\n",
    "                t += total_time\n",
    "            \n",
    "        print(\"\\n{}/{} feasible solutions.\".format(len(E_C_list),run))\n",
    "        # print(\"Avg. Energy:{} / Best Energy:{}\".format(np.mean(E_C_list),np.min(E_C_list)))\n",
    "        ARPD = np.mean((np.array(E_C_list)-E_opt)/E_opt)*100\n",
    "        print(\"ARPD: {} %\\n\".format(ARPD))\n",
    "\n",
    "        output_file.write(\"{}\\t{}\\t{}\\t{}\\t{}\\t{}\\n\".format(dataname, min_e, t, distribution, sum(distribution)/run, ARPD))\n",
    "        output_file.flush()"
   ]
  },
  {
   "cell_type": "code",
   "execution_count": 69,
   "metadata": {},
   "outputs": [
    {
     "name": "stderr",
     "output_type": "stream",
     "text": [
      "  0%|          | 0/1 [00:00<?, ?it/s]"
     ]
    },
    {
     "name": "stdout",
     "output_type": "stream",
     "text": [
      "========== Start loading: 'had12' ==========\n",
      "E_opt: 1652.0\n"
     ]
    },
    {
     "name": "stderr",
     "output_type": "stream",
     "text": [
      "100%|██████████| 1/1 [00:02<00:00,  2.39s/it]\n",
      "100%|██████████| 1/1 [00:02<00:00,  2.40s/it]"
     ]
    },
    {
     "name": "stdout",
     "output_type": "stream",
     "text": [
      "solution 1652.0 [[1900.]]\n",
      "Time: 2.386892080307007\n",
      "\n",
      "1/1 feasible solutions.\n",
      "ARPD: 15.012106537530268 %\n",
      "\n"
     ]
    },
    {
     "name": "stderr",
     "output_type": "stream",
     "text": [
      "\n"
     ]
    }
   ],
   "source": [
    "bqp_test(file=\"had12\", iters=10000, betaStart=0.01, betaStop=0.1, E_offset_increase_rate=0.1)"
   ]
  }
 ],
 "metadata": {
  "kernelspec": {
   "display_name": "Python 3.7.5 64-bit",
   "language": "python",
   "name": "python3"
  },
  "language_info": {
   "codemirror_mode": {
    "name": "ipython",
    "version": 3
   },
   "file_extension": ".py",
   "mimetype": "text/x-python",
   "name": "python",
   "nbconvert_exporter": "python",
   "pygments_lexer": "ipython3",
   "version": "3.7.5"
  },
  "orig_nbformat": 4,
  "vscode": {
   "interpreter": {
    "hash": "fd69f43f58546b570e94fd7eba7b65e6bcc7a5bbc4eab0408017d18902915d69"
   }
  }
 },
 "nbformat": 4,
 "nbformat_minor": 2
}
